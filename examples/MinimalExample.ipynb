{
 "cells": [
  {
   "cell_type": "code",
   "execution_count": 1,
   "metadata": {},
   "outputs": [],
   "source": [
    "import pandas as pd\n",
    "from os.path import join\n",
    "from sklearn.pipeline import make_pipeline\n",
    "from sklearn.datasets import make_regression, make_low_rank_matrix\n",
    "from sklearn.gaussian_process.kernels import RBF, WhiteKernel\n",
    "from gprEmbedding import SubspaceKernel, EmbeddingRBF\n",
    "from sklearn.gaussian_process import GaussianProcessRegressor\n",
    "\n",
    "import pandas as pd\n",
    "import numpy as np"
   ]
  },
  {
   "cell_type": "code",
   "execution_count": 2,
   "metadata": {},
   "outputs": [],
   "source": [
    "path = 'example_data'\n",
    "trainX = pd.read_csv(join(path, 'trainX.csv'), index_col=0)\n",
    "trainY = pd.read_csv(join(path, 'trainY.csv'), index_col=0)\n",
    "    \n",
    "testX = pd.read_csv(join(path, 'testX.csv'), index_col=0)\n",
    "testY = pd.read_csv(join(path, 'testY.csv'), index_col=0)"
   ]
  },
  {
   "cell_type": "code",
   "execution_count": 3,
   "metadata": {},
   "outputs": [
    {
     "data": {
      "text/html": [
       "<div>\n",
       "<style scoped>\n",
       "    .dataframe tbody tr th:only-of-type {\n",
       "        vertical-align: middle;\n",
       "    }\n",
       "\n",
       "    .dataframe tbody tr th {\n",
       "        vertical-align: top;\n",
       "    }\n",
       "\n",
       "    .dataframe thead th {\n",
       "        text-align: right;\n",
       "    }\n",
       "</style>\n",
       "<table border=\"1\" class=\"dataframe\">\n",
       "  <thead>\n",
       "    <tr style=\"text-align: right;\">\n",
       "      <th></th>\n",
       "      <th>VCD</th>\n",
       "      <th>Glc</th>\n",
       "      <th>Gln</th>\n",
       "      <th>Amm</th>\n",
       "      <th>Lac</th>\n",
       "      <th>product</th>\n",
       "      <th>reactor_temperature</th>\n",
       "      <th>pH</th>\n",
       "      <th>reactor_volume</th>\n",
       "      <th>stirring_rate</th>\n",
       "      <th>inital_volume</th>\n",
       "      <th>total_run_time</th>\n",
       "      <th>product_is_clever_lemon</th>\n",
       "      <th>product_is_relaxed_soup</th>\n",
       "      <th>product_is_novel_brick</th>\n",
       "      <th>product_is_savage_yogurt</th>\n",
       "      <th>product_is_forgiving_crumble</th>\n",
       "      <th>product_is_NNcurious_pretzel</th>\n",
       "    </tr>\n",
       "  </thead>\n",
       "  <tbody>\n",
       "    <tr>\n",
       "      <th>0</th>\n",
       "      <td>0.622433</td>\n",
       "      <td>-1.020776</td>\n",
       "      <td>-0.678715</td>\n",
       "      <td>-1.002060</td>\n",
       "      <td>0.202534</td>\n",
       "      <td>-1.113513</td>\n",
       "      <td>0.767683</td>\n",
       "      <td>1.438053</td>\n",
       "      <td>-0.032582</td>\n",
       "      <td>0.145468</td>\n",
       "      <td>0.0</td>\n",
       "      <td>0.0</td>\n",
       "      <td>0.0</td>\n",
       "      <td>1.0</td>\n",
       "      <td>0.0</td>\n",
       "      <td>0.0</td>\n",
       "      <td>0.0</td>\n",
       "      <td>0.0</td>\n",
       "    </tr>\n",
       "    <tr>\n",
       "      <th>1</th>\n",
       "      <td>-0.334847</td>\n",
       "      <td>0.520189</td>\n",
       "      <td>1.288567</td>\n",
       "      <td>-0.421035</td>\n",
       "      <td>-0.997017</td>\n",
       "      <td>-1.104210</td>\n",
       "      <td>0.540430</td>\n",
       "      <td>0.253870</td>\n",
       "      <td>0.778337</td>\n",
       "      <td>0.559997</td>\n",
       "      <td>0.0</td>\n",
       "      <td>0.0</td>\n",
       "      <td>0.0</td>\n",
       "      <td>0.0</td>\n",
       "      <td>0.0</td>\n",
       "      <td>1.0</td>\n",
       "      <td>0.0</td>\n",
       "      <td>0.0</td>\n",
       "    </tr>\n",
       "    <tr>\n",
       "      <th>2</th>\n",
       "      <td>0.729871</td>\n",
       "      <td>2.352416</td>\n",
       "      <td>-0.032219</td>\n",
       "      <td>0.002495</td>\n",
       "      <td>0.406748</td>\n",
       "      <td>0.684492</td>\n",
       "      <td>-0.745764</td>\n",
       "      <td>0.197531</td>\n",
       "      <td>-0.032582</td>\n",
       "      <td>0.687598</td>\n",
       "      <td>0.0</td>\n",
       "      <td>0.0</td>\n",
       "      <td>0.0</td>\n",
       "      <td>0.0</td>\n",
       "      <td>0.0</td>\n",
       "      <td>1.0</td>\n",
       "      <td>0.0</td>\n",
       "      <td>0.0</td>\n",
       "    </tr>\n",
       "    <tr>\n",
       "      <th>3</th>\n",
       "      <td>0.997949</td>\n",
       "      <td>-0.296204</td>\n",
       "      <td>-0.634980</td>\n",
       "      <td>-0.383267</td>\n",
       "      <td>-0.115214</td>\n",
       "      <td>-0.196340</td>\n",
       "      <td>-0.961809</td>\n",
       "      <td>1.392019</td>\n",
       "      <td>-0.032582</td>\n",
       "      <td>-1.000255</td>\n",
       "      <td>0.0</td>\n",
       "      <td>0.0</td>\n",
       "      <td>0.0</td>\n",
       "      <td>0.0</td>\n",
       "      <td>0.0</td>\n",
       "      <td>1.0</td>\n",
       "      <td>0.0</td>\n",
       "      <td>0.0</td>\n",
       "    </tr>\n",
       "    <tr>\n",
       "      <th>4</th>\n",
       "      <td>0.480179</td>\n",
       "      <td>-1.152567</td>\n",
       "      <td>1.094763</td>\n",
       "      <td>0.410122</td>\n",
       "      <td>-0.177076</td>\n",
       "      <td>-0.009610</td>\n",
       "      <td>0.098591</td>\n",
       "      <td>1.010149</td>\n",
       "      <td>0.778337</td>\n",
       "      <td>-0.170512</td>\n",
       "      <td>0.0</td>\n",
       "      <td>0.0</td>\n",
       "      <td>0.0</td>\n",
       "      <td>1.0</td>\n",
       "      <td>0.0</td>\n",
       "      <td>0.0</td>\n",
       "      <td>0.0</td>\n",
       "      <td>0.0</td>\n",
       "    </tr>\n",
       "  </tbody>\n",
       "</table>\n",
       "</div>"
      ],
      "text/plain": [
       "        VCD       Glc       Gln       Amm       Lac   product  \\\n",
       "0  0.622433 -1.020776 -0.678715 -1.002060  0.202534 -1.113513   \n",
       "1 -0.334847  0.520189  1.288567 -0.421035 -0.997017 -1.104210   \n",
       "2  0.729871  2.352416 -0.032219  0.002495  0.406748  0.684492   \n",
       "3  0.997949 -0.296204 -0.634980 -0.383267 -0.115214 -0.196340   \n",
       "4  0.480179 -1.152567  1.094763  0.410122 -0.177076 -0.009610   \n",
       "\n",
       "   reactor_temperature        pH  reactor_volume  stirring_rate  \\\n",
       "0             0.767683  1.438053       -0.032582       0.145468   \n",
       "1             0.540430  0.253870        0.778337       0.559997   \n",
       "2            -0.745764  0.197531       -0.032582       0.687598   \n",
       "3            -0.961809  1.392019       -0.032582      -1.000255   \n",
       "4             0.098591  1.010149        0.778337      -0.170512   \n",
       "\n",
       "   inital_volume  total_run_time  product_is_clever_lemon  \\\n",
       "0            0.0             0.0                      0.0   \n",
       "1            0.0             0.0                      0.0   \n",
       "2            0.0             0.0                      0.0   \n",
       "3            0.0             0.0                      0.0   \n",
       "4            0.0             0.0                      0.0   \n",
       "\n",
       "   product_is_relaxed_soup  product_is_novel_brick  product_is_savage_yogurt  \\\n",
       "0                      1.0                     0.0                       0.0   \n",
       "1                      0.0                     0.0                       1.0   \n",
       "2                      0.0                     0.0                       1.0   \n",
       "3                      0.0                     0.0                       1.0   \n",
       "4                      1.0                     0.0                       0.0   \n",
       "\n",
       "   product_is_forgiving_crumble  product_is_NNcurious_pretzel  \n",
       "0                           0.0                           0.0  \n",
       "1                           0.0                           0.0  \n",
       "2                           0.0                           0.0  \n",
       "3                           0.0                           0.0  \n",
       "4                           0.0                           0.0  "
      ]
     },
     "execution_count": 3,
     "metadata": {},
     "output_type": "execute_result"
    }
   ],
   "source": [
    "trainX.head()"
   ]
  },
  {
   "cell_type": "markdown",
   "metadata": {},
   "source": [
    "# Example Data\n",
    "The example data set is concerned with cell processes in biology. For different cell lines (or products) we predict the growth rate of the cells. \n",
    "\n",
    "The target `y` is the current rate of cell growth.  \n",
    "The features `X` contain real valued information like Temperature, pH or current concentrations of nutrients in the brooth. Additionally,\n",
    "the identity of the product is represented with a one-hot vector in the last 6 columns. \n",
    "\n",
    "The data has already been scalled within each product. \n",
    "\n",
    "# The Method\n",
    "We implemented a custom kernel `EmbeddingRBF` that will essentially replace the one-hot vectors in the raw data with a learned embedding vector. It implements the kernel function\n",
    "\n",
    "$$k(x, y) =  exp(- ||Wx- Wy||^2 ) $$\n",
    "\n",
    "where W is a learned matrix. `x` and `y` are one-hot vectors. This kernel is applied to the one-hot vector that encodes the product identity and multiplied with an RBF kernel on the remaining features. This is equivalent to replacing the one-hot vectors with the learned embeddings (correct columns in W) and then feeding them together with the normal features into a normal RBF kernel."
   ]
  },
  {
   "cell_type": "code",
   "execution_count": 4,
   "metadata": {},
   "outputs": [
    {
     "data": {
      "text/plain": [
       "['product_is_clever_lemon',\n",
       " 'product_is_relaxed_soup',\n",
       " 'product_is_novel_brick',\n",
       " 'product_is_savage_yogurt',\n",
       " 'product_is_forgiving_crumble',\n",
       " 'product_is_NNcurious_pretzel']"
      ]
     },
     "execution_count": 4,
     "metadata": {},
     "output_type": "execute_result"
    }
   ],
   "source": [
    "n_features = 12 # the number of normal features\n",
    "n_products = 6 # the number of products \n",
    "embedding_dimension = 2 # can be choosen freely\n",
    "\n",
    "prod_col_names = trainX.columns.values[-n_products:].tolist() # the names of the columns encoding the product identity\n",
    "prod_col_names "
   ]
  },
  {
   "cell_type": "code",
   "execution_count": 5,
   "metadata": {},
   "outputs": [],
   "source": [
    "# Apply RBF kernel to the normal features\n",
    "raw_normal_feature_kernel = RBF(length_scale = [1.0]*n_features)\n",
    "\n",
    "# The SubspaceKernel ensures that the RBF kernel is only applied to the first 10 features\n",
    "normal_feature_kernel = SubspaceKernel(raw_normal_feature_kernel, ids_to_apply=np.arange(0, n_features))\n",
    "\n",
    "\n",
    "\n",
    "# Apply Embedding kernel to the last 6 features, that contain a one-hot representation of the product\n",
    "raw_embedding_kernel = EmbeddingRBF.make4EntityEmbed(n_entities=n_products, embedding_dimension=embedding_dimension)\n",
    "\n",
    "# Use SubspaceKernel to indicate that the one-hot feature representation is contained in the last 6 columns\n",
    "embedding_kernel = SubspaceKernel(raw_embedding_kernel, ids_to_apply=np.arange(n_features, n_features+n_products))\n",
    "\n",
    "# Combine the kernel and allow for Noise\n",
    "full_kernel = 1**2*normal_feature_kernel*embedding_kernel + WhiteKernel()"
   ]
  },
  {
   "cell_type": "code",
   "execution_count": 6,
   "metadata": {},
   "outputs": [
    {
     "data": {
      "text/plain": [
       "GaussianProcessRegressor(kernel=1**2 * SubspaceKernel(RBF(length_scale=[1, 1, 1, 1, 1, 1, 1, 1, 1, 1, 1, 1]) on [ 0  1  2  3  4  5  6  7  8  9 10 11]) * SubspaceKernel(EmbeddingRBF(1.31, 1.32, 1.24, 1.52, 1.51, 1.6, 1.1, 1.11, 0.75, 0.276, 0.907, 0.571) on [12 13 14 15 16 17]) + WhiteKernel(noise_level=1),\n",
       "                         n_restarts_optimizer=3)"
      ]
     },
     "execution_count": 6,
     "metadata": {},
     "output_type": "execute_result"
    }
   ],
   "source": [
    "embedding_gp = GaussianProcessRegressor(kernel=full_kernel, n_restarts_optimizer=3)\n",
    "\n",
    "embedding_gp.fit(trainX, trainY)"
   ]
  },
  {
   "cell_type": "code",
   "execution_count": 7,
   "metadata": {},
   "outputs": [],
   "source": [
    "y_hat_embed = embedding_gp.predict(testX)"
   ]
  },
  {
   "cell_type": "code",
   "execution_count": 8,
   "metadata": {},
   "outputs": [
    {
     "data": {
      "text/plain": [
       "299.5136338098987"
      ]
     },
     "execution_count": 8,
     "metadata": {},
     "output_type": "execute_result"
    }
   ],
   "source": [
    "embedding_gp.log_marginal_likelihood()"
   ]
  },
  {
   "cell_type": "code",
   "execution_count": 9,
   "metadata": {},
   "outputs": [
    {
     "name": "stdout",
     "output_type": "stream",
     "text": [
      "Test error: 0.09945956769960576\n"
     ]
    }
   ],
   "source": [
    "error = np.mean((y_hat_embed - testY.values)**2)\n",
    "print('Test error: {}'.format(error))"
   ]
  },
  {
   "cell_type": "markdown",
   "metadata": {},
   "source": [
    "# Evaluating the Embeddings"
   ]
  },
  {
   "cell_type": "code",
   "execution_count": 10,
   "metadata": {},
   "outputs": [],
   "source": [
    "# We first need to get the trained kernel (i.e. with optimised hyperparameter). Dont forget the underscore in the end !!!\n",
    "trained_kernel = embedding_gp.kernel_\n",
    "\n",
    "embedding_kernel = trained_kernel.k1.k2.base_kernel # the trained_kernel is a composite kernel. We go down the tree until we have the embedding kernel\n",
    "W = embedding_kernel.W # contains the entity embeddings as column vectors"
   ]
  },
  {
   "cell_type": "code",
   "execution_count": 11,
   "metadata": {},
   "outputs": [
    {
     "data": {
      "text/plain": [
       "<matplotlib.collections.PathCollection at 0x128bd4550>"
      ]
     },
     "execution_count": 11,
     "metadata": {},
     "output_type": "execute_result"
    },
    {
     "data": {
      "image/png": "[encoded data removed]",
      "text/plain": [
       "<Figure size 432x288 with 1 Axes>"
      ]
     },
     "metadata": {
      "needs_background": "light"
     },
     "output_type": "display_data"
    }
   ],
   "source": [
    "from matplotlib import pyplot as plt\n",
    "plt.scatter(W[0, :], W[1, :])"
   ]
  }
 ],
 "metadata": {
  "kernelspec": {
   "display_name": "Python 3",
   "language": "python",
   "name": "python3"
  },
  "language_info": {
   "codemirror_mode": {
    "name": "ipython",
    "version": 3
   },
   "file_extension": ".py",
   "mimetype": "text/x-python",
   "name": "python",
   "nbconvert_exporter": "python",
   "pygments_lexer": "ipython3",
   "version": "3.8.5"
  }
 },
 "nbformat": 4,
 "nbformat_minor": 4
}
